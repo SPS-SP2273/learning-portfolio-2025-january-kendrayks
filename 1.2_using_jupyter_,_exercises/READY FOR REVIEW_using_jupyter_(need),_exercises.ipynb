{
 "cells": [
  {
   "attachments": {},
   "cell_type": "markdown",
   "id": "123456",
   "metadata": {},
   "source": [
    "<div style=\"text-align:left;font-size:2em\"><span style=\"font-weight:bolder;font-size:1.25em\">SP2273 | Learning Portfolio</span><br><br><span style=\"font-weight:bold;color:darkred\">Using Jupyter (Need), Exercises</span></div>"
   ]
  },
  {
   "attachments": {},
   "cell_type": "markdown",
   "id": "7e7515bb",
   "metadata": {},
   "source": [
    "## 1 Quadratic Equations"
   ]
  },
  {
   "attachments": {},
   "cell_type": "markdown",
   "id": "b06bf6c1",
   "metadata": {},
   "source": [
    "### Introduction"
   ]
  },
  {
   "cell_type": "markdown",
   "id": "b131ef9d-1659-4ed5-8674-506145219fa9",
   "metadata": {},
   "source": [
    "![](https://upload.wikimedia.org/wikipedia/commons/thumb/f/f8/Polynomialdeg2.svg/300px-Polynomialdeg2.svg.png)\n",
    "\n",
    "(*Image from the [Wikipedia page on Quadratic equations](https://en.wikipedia.org/wiki/Quadratic_equation)*)\n"
   ]
  },
  {
   "cell_type": "markdown",
   "id": "70ed3e5d-c023-4517-8e95-b5be2d1f928f",
   "metadata": {},
   "source": [
    "The general form of a quadratic equation is:"
   ]
  },
  {
   "cell_type": "markdown",
   "id": "97a01ef1-90fa-45f9-b7ee-505b17605ac9",
   "metadata": {},
   "source": [
    "$$ax^2+bx+c=0$$"
   ]
  },
  {
   "attachments": {},
   "cell_type": "markdown",
   "id": "d70ad5bb",
   "metadata": {},
   "source": [
    "### Solutions"
   ]
  },
  {
   "cell_type": "markdown",
   "id": "81eae3ea-d558-4433-bcbd-3179278d1f31",
   "metadata": {},
   "source": [
    "1. What is a Git repository? It is a place where I can store my code, files and each file's version history.\n",
    "\n",
    "2. Git keeps track of changes in the files in our repository.\n",
    "\n",
    "3. What is a commit? A commit specifies what file changes you want to be recorded and attaches a brief description of these changes\n",
    "\n",
    "4. What is a push? A push is to add the changes made in the device into the cloud server\n",
    "\n",
    "5. What is a pull? A pull is when we want to save changes from the cloud server to our local machine.\n",
    "\n",
    "6. What is the difference between GitHub and GitHub Desktop? GitHub is a web-based hosting service for Git repositories, while GitHub Desktop is a desktop application that runs Git on your computer"
   ]
  },
  {
   "attachments": {},
   "cell_type": "markdown",
   "id": "d1e3b484",
   "metadata": {},
   "source": [
    "### Discriminant"
   ]
  },
  {
   "cell_type": "markdown",
   "id": "c6e52c96-6973-4c86-9b3a-08f40c449c4a",
   "metadata": {},
   "source": [
    "$$\\mu = \\frac{1}{n}\\sum_{i=1}^{n} x_i$$\n",
    "$$\\sigma = \\sqrt{\\frac{1}{n}\\sum_{i=1}^{n}(x_i-\\mu)^2}$$\n",
    "$$r = \\frac{\\sum_{i=1}^{n}(x_i-\\mu_X)(y_i-\\mu_Y)}{\\sqrt{{\\sum_{i=1}^{n} (x_i-\\mu_X)^2}{\\sum_{i=1}^{n} (y_i-\\mu_Y)^2}}}$$"
   ]
  }
 ],
 "metadata": {
  "kernelspec": {
   "display_name": "Python 3 (ipykernel)",
   "language": "python",
   "name": "python3"
  },
  "language_info": {
   "codemirror_mode": {
    "name": "ipython",
    "version": 3
   },
   "file_extension": ".py",
   "mimetype": "text/x-python",
   "name": "python",
   "nbconvert_exporter": "python",
   "pygments_lexer": "ipython3",
   "version": "3.12.7"
  },
  "toc": {
   "base_numbering": 1,
   "nav_menu": {},
   "number_sections": true,
   "sideBar": true,
   "skip_h1_title": false,
   "title_cell": "Table of Contents",
   "title_sidebar": "Contents",
   "toc_cell": false,
   "toc_position": {},
   "toc_section_display": true,
   "toc_window_display": false
  },
  "vscode": {
   "interpreter": {
    "hash": "31f2aee4e71d21fbe5cf8b01ff0e069b9275f58929596ceb00d14d90e3e16cd6"
   }
  }
 },
 "nbformat": 4,
 "nbformat_minor": 5
}
