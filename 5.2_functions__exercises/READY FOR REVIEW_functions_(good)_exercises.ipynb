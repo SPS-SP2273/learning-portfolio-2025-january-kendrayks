{
 "cells": [
  {
   "attachments": {},
   "cell_type": "markdown",
   "id": "123456",
   "metadata": {},
   "source": [
    "<div style=\"text-align:left;font-size:2em\"><span style=\"font-weight:bolder;font-size:1.25em\">SP2273 | Learning Portfolio</span><br><br><span style=\"font-weight:bold;color:darkred\">Functions (Good) Exercises</span></div>"
   ]
  },
  {
   "cell_type": "markdown",
   "id": "276cae23-259f-4e08-9e33-682111891989",
   "metadata": {},
   "source": [
    "**Exercise 1**"
   ]
  },
  {
   "cell_type": "code",
   "execution_count": 4,
   "id": "848dec60-7082-4b4a-b76e-a89e83ee38d2",
   "metadata": {},
   "outputs": [
    {
     "name": "stdout",
     "output_type": "stream",
     "text": [
      "68.0 °F\n",
      "293.15 K\n"
     ]
    }
   ],
   "source": [
    "def convert_celsius(temperature_celsius, target_scale='Fahrenheit'):\n",
    "    if target_scale == 'Kelvin':\n",
    "        temperature_kelvin = temperature_celsius + 273.15\n",
    "        print(temperature_kelvin, 'K')\n",
    "    else:\n",
    "        target_scale == 'Fahrenheit'\n",
    "        temperature_fahrenheit = temperature_celsius * 9/5 + 32\n",
    "        print(temperature_fahrenheit, '°F')\n",
    "\n",
    "convert_celsius(20)\n",
    "convert_celsius(20, 'Kelvin')\n"
   ]
  },
  {
   "cell_type": "markdown",
   "id": "dfdd40db-dc5f-47ba-9d2f-9e593c7c8de1",
   "metadata": {},
   "source": [
    "**Exercise 2**"
   ]
  },
  {
   "cell_type": "code",
   "execution_count": 5,
   "id": "6bd7b8cb-4c1f-4d7c-9cb0-ec0a1c811d73",
   "metadata": {},
   "outputs": [
    {
     "name": "stdout",
     "output_type": "stream",
     "text": [
      "266.48333333333335 K\n",
      "-6.666666666666666 °C\n"
     ]
    }
   ],
   "source": [
    "def convert_fahrenheit(temperature_fahrenheit, target_scale='Celsius'):\n",
    "    if target_scale == 'Kelvin':\n",
    "        temperature_kelvin = (temperature_fahrenheit + 459.67) / 1.8\n",
    "        print(temperature_kelvin, 'K')\n",
    "    elif target_scale == 'Celsius':\n",
    "        temperature_celsius = (temperature_fahrenheit - 32) / 1.8\n",
    "        print(temperature_celsius, '°C')\n",
    "\n",
    "convert_fahrenheit(20, 'Kelvin')\n",
    "convert_fahrenheit(20)"
   ]
  },
  {
   "cell_type": "markdown",
   "id": "69edba4b-cc83-434e-8e54-2e35d853e2d9",
   "metadata": {},
   "source": [
    "**Exercise 3**"
   ]
  },
  {
   "cell_type": "code",
   "execution_count": 6,
   "id": "6593cd66-0cfe-43df-9a25-ffaa002df3a5",
   "metadata": {},
   "outputs": [
    {
     "name": "stdout",
     "output_type": "stream",
     "text": [
      "199.81666666666666 K\n",
      "255.37222222222223 K\n",
      "310.9277777777778 K\n",
      "273.15 K\n",
      "323.15 K\n",
      "373.15 K\n",
      "-273.15 °C\n",
      "-223.14999999999998 °C\n",
      "-279.67 °F\n"
     ]
    }
   ],
   "source": [
    "def convert_temperature(temperature, source_scale, target_scale):\n",
    "    if source_scale == 'Celsius':\n",
    "        convert_celsius(temperature, target_scale)\n",
    "    elif source_scale == 'Fahrenheit':\n",
    "        convert_fahrenheit(temperature, target_scale)\n",
    "    elif source_scale == 'Kelvin':\n",
    "        if target_scale == 'Celsius':\n",
    "            print(temperature - 273.15, '°C')\n",
    "        elif target_scale == 'Fahrenheit':\n",
    "            print(temperature * 1.8 - 459.67, '°F')\n",
    "\n",
    "convert_temperature(-100, 'Fahrenheit', 'Kelvin') \n",
    "convert_temperature(0, 'Fahrenheit', 'Kelvin') \n",
    "convert_temperature(100, 'Fahrenheit', 'Kelvin') \n",
    "\n",
    "convert_temperature(0, 'Celsius', 'Kelvin') \n",
    "convert_temperature(50, 'Celsius', 'Kelvin') \n",
    "convert_temperature(100, 'Celsius', 'Kelvin') \n",
    "\n",
    "convert_temperature(0, 'Kelvin', 'Celsius') \n",
    "convert_temperature(50, 'Kelvin', 'Celsius') \n",
    "convert_temperature(100, 'Kelvin', 'Fahrenheit') "
   ]
  }
 ],
 "metadata": {
  "kernelspec": {
   "display_name": "Python 3 (ipykernel)",
   "language": "python",
   "name": "python3"
  },
  "language_info": {
   "codemirror_mode": {
    "name": "ipython",
    "version": 3
   },
   "file_extension": ".py",
   "mimetype": "text/x-python",
   "name": "python",
   "nbconvert_exporter": "python",
   "pygments_lexer": "ipython3",
   "version": "3.12.3"
  },
  "toc": {
   "base_numbering": 1,
   "nav_menu": {},
   "number_sections": true,
   "sideBar": true,
   "skip_h1_title": false,
   "title_cell": "Table of Contents",
   "title_sidebar": "Contents",
   "toc_cell": false,
   "toc_position": {},
   "toc_section_display": true,
   "toc_window_display": false
  },
  "vscode": {
   "interpreter": {
    "hash": "31f2aee4e71d21fbe5cf8b01ff0e069b9275f58929596ceb00d14d90e3e16cd6"
   }
  }
 },
 "nbformat": 4,
 "nbformat_minor": 5
}
