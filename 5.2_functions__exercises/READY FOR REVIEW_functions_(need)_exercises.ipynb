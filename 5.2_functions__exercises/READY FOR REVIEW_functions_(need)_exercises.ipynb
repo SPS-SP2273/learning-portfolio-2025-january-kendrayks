{
 "cells": [
  {
   "attachments": {},
   "cell_type": "markdown",
   "id": "123456",
   "metadata": {},
   "source": [
    "<div style=\"text-align:left;font-size:2em\"><span style=\"font-weight:bolder;font-size:1.25em\">SP2273 | Learning Portfolio</span><br><br><span style=\"font-weight:bold;color:darkred\">Functions (Need) Exercises</span></div>"
   ]
  },
  {
   "cell_type": "markdown",
   "id": "4ae7e257-680b-4766-87ac-62ef40ee9382",
   "metadata": {},
   "source": [
    "**Exercise 1**"
   ]
  },
  {
   "cell_type": "code",
   "execution_count": 10,
   "id": "d87f2e30-9113-48ff-bf26-102a6690ee02",
   "metadata": {},
   "outputs": [
    {
     "data": {
      "text/plain": [
       "'Hello Kendra!'"
      ]
     },
     "execution_count": 10,
     "metadata": {},
     "output_type": "execute_result"
    }
   ],
   "source": [
    "def greeting(name):\n",
    "    if name == 'Batman':\n",
    "        return 'Hello Batman! So, nice to meet you!'\n",
    "    return f'Hello {name}!'\n",
    "\n",
    "greeting('Batman')\n",
    "greeting('Kendra')"
   ]
  },
  {
   "cell_type": "markdown",
   "id": "a3758823-5821-4715-9cc7-e2fd3f43cbf1",
   "metadata": {},
   "source": [
    "The named function does not have to return a value."
   ]
  },
  {
   "cell_type": "markdown",
   "id": "3643fefa-4d6c-48fe-b1d1-3821a99c0402",
   "metadata": {},
   "source": [
    "**Exercise 2**"
   ]
  },
  {
   "cell_type": "code",
   "execution_count": 19,
   "id": "d87b209f-9e54-4c31-85e0-c8468d770cf8",
   "metadata": {},
   "outputs": [
    {
     "data": {
      "text/plain": [
       "'Category: Underweight'"
      ]
     },
     "execution_count": 19,
     "metadata": {},
     "output_type": "execute_result"
    }
   ],
   "source": [
    "def calculate_bmi(weight,height):\n",
    "    bmi = weight / (height ** 2)\n",
    "    if bmi < 18.5:\n",
    "        return 'Category: Underweight'\n",
    "    elif bmi >= 18.5 and bmi <= 24.9:\n",
    "        return 'Category: Normal weight'\n",
    "    elif bmi >= 25 and bmi <= 29.9:\n",
    "        return 'Category: Overweight'\n",
    "    elif bmi >= 30:\n",
    "        return 'Category: Obese'\n",
    "\n",
    "calculate_bmi(50,160)"
   ]
  },
  {
   "cell_type": "markdown",
   "id": "9dca9978-c614-44e4-8fed-ce71ddc91b41",
   "metadata": {},
   "source": [
    "**Exercise 3**"
   ]
  },
  {
   "cell_type": "code",
   "execution_count": 31,
   "id": "4e8c5cff-3410-4307-8bbd-daa342c223f2",
   "metadata": {},
   "outputs": [
    {
     "name": "stdout",
     "output_type": "stream",
     "text": [
      "6\n",
      "1\n",
      "n cannot be a negative number\n"
     ]
    }
   ],
   "source": [
    "def factorial(n):\n",
    "    factorial_value = (n-1)\n",
    "    if n<0:\n",
    "        print('n cannot be a negative number')\n",
    "    elif n == 0:\n",
    "        print(1)\n",
    "    else:\n",
    "        factorial = 1\n",
    "        for i in range(1, n+1):\n",
    "            factorial = factorial * i \n",
    "        print(factorial)    \n",
    "factorial(3)\n",
    "factorial(0)\n",
    "factorial(-3)"
   ]
  }
 ],
 "metadata": {
  "kernelspec": {
   "display_name": "Python 3 (ipykernel)",
   "language": "python",
   "name": "python3"
  },
  "language_info": {
   "codemirror_mode": {
    "name": "ipython",
    "version": 3
   },
   "file_extension": ".py",
   "mimetype": "text/x-python",
   "name": "python",
   "nbconvert_exporter": "python",
   "pygments_lexer": "ipython3",
   "version": "3.12.3"
  },
  "toc": {
   "base_numbering": 1,
   "nav_menu": {},
   "number_sections": true,
   "sideBar": true,
   "skip_h1_title": false,
   "title_cell": "Table of Contents",
   "title_sidebar": "Contents",
   "toc_cell": false,
   "toc_position": {},
   "toc_section_display": true,
   "toc_window_display": false
  },
  "vscode": {
   "interpreter": {
    "hash": "31f2aee4e71d21fbe5cf8b01ff0e069b9275f58929596ceb00d14d90e3e16cd6"
   }
  }
 },
 "nbformat": 4,
 "nbformat_minor": 5
}
