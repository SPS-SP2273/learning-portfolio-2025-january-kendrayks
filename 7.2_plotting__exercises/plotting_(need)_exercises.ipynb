{
 "cells": [
  {
   "attachments": {},
   "cell_type": "markdown",
   "id": "123456",
   "metadata": {},
   "source": [
    "<div style=\"text-align:left;font-size:2em\"><span style=\"font-weight:bolder;font-size:1.25em\">SP2273 | Learning Portfolio</span><br><br><span style=\"font-weight:bold;color:darkred\">Plotting (Need) Exercises</span></div>"
   ]
  },
  {
   "cell_type": "code",
   "execution_count": 7,
   "id": "d1447786-c00e-4dfd-a0cc-261d82c68979",
   "metadata": {},
   "outputs": [
    {
     "ename": "SyntaxError",
     "evalue": "invalid syntax (2625928115.py, line 1)",
     "output_type": "error",
     "traceback": [
      "\u001b[1;36m  Cell \u001b[1;32mIn[7], line 1\u001b[1;36m\u001b[0m\n\u001b[1;33m    conda install matplotlib -c conda-forge\u001b[0m\n\u001b[1;37m          ^\u001b[0m\n\u001b[1;31mSyntaxError\u001b[0m\u001b[1;31m:\u001b[0m invalid syntax\n"
     ]
    }
   ],
   "source": [
    "conda install matplotlib -c conda-forge\n",
    "from matplotlib import pyplot as plt\n",
    "\n",
    "# Some data for plotting\n",
    "x = [0, 1, 2, 3, 4, 5, 6]\n",
    "y_1 = [0, 2, 4, 6, 8, 10, 12]\n",
    "y_2 = [0, 3, 6, 9, 12, 15, 18]\n",
    "\n",
    "# Let's start plotting\n",
    "plt.plot(x, y_1, label='Y values',\n",
    "         color='red', linestyle='dashed')\n",
    "plt.xlabel('x-values')\n",
    "plt.ylabel('y-values')\n",
    "plt.title('X vs Y')\n",
    "plt.grid(alpha=.25)\n",
    "plt.legend(loc='upper left')"
   ]
  },
  {
   "cell_type": "markdown",
   "id": "311b6413-7d87-4a30-831a-0d19236bda33",
   "metadata": {},
   "source": [
    "**Exercise 1**"
   ]
  },
  {
   "cell_type": "code",
   "execution_count": null,
   "id": "b8cf3fe0-edb8-45c7-b1e4-40d07667e75e",
   "metadata": {},
   "outputs": [],
   "source": []
  },
  {
   "cell_type": "markdown",
   "id": "01c1bed0-0648-497c-8c3e-25a3f40389fa",
   "metadata": {},
   "source": [
    "**Exercise 2**"
   ]
  },
  {
   "cell_type": "code",
   "execution_count": null,
   "id": "c7afc1eb-f1f5-432b-b60d-3c8417e44464",
   "metadata": {},
   "outputs": [],
   "source": []
  },
  {
   "cell_type": "code",
   "execution_count": null,
   "id": "a209399f-8e0d-4a37-b5fd-c5835115a77c",
   "metadata": {},
   "outputs": [],
   "source": []
  }
 ],
 "metadata": {
  "kernelspec": {
   "display_name": "Python 3 (ipykernel)",
   "language": "python",
   "name": "python3"
  },
  "language_info": {
   "codemirror_mode": {
    "name": "ipython",
    "version": 3
   },
   "file_extension": ".py",
   "mimetype": "text/x-python",
   "name": "python",
   "nbconvert_exporter": "python",
   "pygments_lexer": "ipython3",
   "version": "3.12.3"
  },
  "toc": {
   "base_numbering": 1,
   "nav_menu": {},
   "number_sections": true,
   "sideBar": true,
   "skip_h1_title": false,
   "title_cell": "Table of Contents",
   "title_sidebar": "Contents",
   "toc_cell": false,
   "toc_position": {},
   "toc_section_display": true,
   "toc_window_display": false
  },
  "vscode": {
   "interpreter": {
    "hash": "31f2aee4e71d21fbe5cf8b01ff0e069b9275f58929596ceb00d14d90e3e16cd6"
   }
  }
 },
 "nbformat": 4,
 "nbformat_minor": 5
}
