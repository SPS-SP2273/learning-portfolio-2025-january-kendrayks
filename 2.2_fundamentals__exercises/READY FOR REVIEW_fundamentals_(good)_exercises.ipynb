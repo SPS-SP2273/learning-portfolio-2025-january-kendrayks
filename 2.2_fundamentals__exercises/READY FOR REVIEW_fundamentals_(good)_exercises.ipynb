{
 "cells": [
  {
   "attachments": {},
   "cell_type": "markdown",
   "id": "123456",
   "metadata": {},
   "source": [
    "<div style=\"text-align:left;font-size:2em\"><span style=\"font-weight:bolder;font-size:1.25em\">SP2273 | Learning Portfolio</span><br><br><span style=\"font-weight:bold;color:darkred\">Fundamentals (Good) Exercises</span></div>"
   ]
  },
  {
   "cell_type": "markdown",
   "id": "e715273b-f922-4041-ab2f-4cf87618aa58",
   "metadata": {},
   "source": [
    "### Exercise 1\n"
   ]
  },
  {
   "cell_type": "markdown",
   "id": "d5e40253-7b7d-4707-849e-5f161acd2779",
   "metadata": {},
   "source": [
    "**Task 1**"
   ]
  },
  {
   "cell_type": "code",
   "execution_count": 14,
   "id": "3ef360f6-8c16-4896-a487-b05d42e6aa55",
   "metadata": {},
   "outputs": [
    {
     "name": "stdin",
     "output_type": "stream",
     "text": [
      "What's your name?  kendra\n"
     ]
    },
    {
     "name": "stdout",
     "output_type": "stream",
     "text": [
      "How you doin KENDRA!\n"
     ]
    }
   ],
   "source": [
    "name = input(\"What's your name? \")\n",
    "print(f'How you doin {name.upper()}!')\n"
   ]
  },
  {
   "cell_type": "markdown",
   "id": "04aaa49c-0016-43ac-a824-418808c3ca93",
   "metadata": {},
   "source": [
    "**Task 2**"
   ]
  },
  {
   "cell_type": "code",
   "execution_count": 24,
   "id": "729b84a3-60b5-4474-8000-b7755d3847c2",
   "metadata": {},
   "outputs": [
    {
     "name": "stdin",
     "output_type": "stream",
     "text": [
      "What's your name? kendra\n",
      "What's your age? 20\n"
     ]
    },
    {
     "name": "stdout",
     "output_type": "stream",
     "text": [
      "My name is KENDRA and I am 20 years old.\n"
     ]
    }
   ],
   "source": [
    "name = input(\"What's your name?\")\n",
    "age = input(\"What's your age?\")\n",
    "print(f'My name is {name.upper()} and I am {age} years old.')"
   ]
  },
  {
   "cell_type": "markdown",
   "id": "beaee03e-310c-4675-b8a4-6d9aa05dc569",
   "metadata": {},
   "source": [
    "**Task 3**"
   ]
  },
  {
   "cell_type": "code",
   "execution_count": 26,
   "id": "22919430-8744-4411-9fc6-aa5051110417",
   "metadata": {},
   "outputs": [],
   "source": [
    "import numpy as np"
   ]
  },
  {
   "cell_type": "code",
   "execution_count": 28,
   "id": "f4209ddb-2df3-4fed-a68b-2d458926bb5c",
   "metadata": {},
   "outputs": [
    {
     "name": "stdout",
     "output_type": "stream",
     "text": [
      "The value of pi to 2 decimal places is 3.14\n",
      "The value of pi to 2 decimal places is 3.142\n",
      "The value of pi to 2 decimal places is 3.1416\n"
     ]
    }
   ],
   "source": [
    "print(f'The value of pi to 2 decimal places is {np.pi:.2f}')\n",
    "print(f'The value of pi to 2 decimal places is {np.pi:.3f}')\n",
    "print(f'The value of pi to 2 decimal places is {np.pi:.4f}')"
   ]
  },
  {
   "cell_type": "markdown",
   "id": "598a7db2-e4af-4ad7-950b-ebe8c89c89b9",
   "metadata": {},
   "source": [
    "**Task 4**"
   ]
  },
  {
   "cell_type": "code",
   "execution_count": 29,
   "id": "f9b132bf-b594-453c-adf1-fa77647847f9",
   "metadata": {},
   "outputs": [
    {
     "name": "stdout",
     "output_type": "stream",
     "text": [
      "Apple     $ 0.99\n",
      "Banana    $ 0.59\n",
      "Orange    $ 1.29\n"
     ]
    }
   ],
   "source": [
    "fruits = [\"Apple\", \"Banana\", \"Orange\"]\n",
    "prices = [0.99, 0.59, 1.29]\n",
    "\n",
    "print(f\"{\"Apple\":<10}$ {0.99}\")\n",
    "print(f\"{\"Banana\":<10}$ {0.59}\")\n",
    "print(f\"{\"Orange\":<10}$ {1.29}\")"
   ]
  },
  {
   "cell_type": "markdown",
   "id": "6b9233fc-b370-4ec8-aba0-9a910649fdb2",
   "metadata": {},
   "source": [
    "### Exercise 2"
   ]
  },
  {
   "cell_type": "code",
   "execution_count": 4,
   "id": "cfad7788-6042-405d-a1d6-81ab558fd14a",
   "metadata": {},
   "outputs": [
    {
     "name": "stdin",
     "output_type": "stream",
     "text": [
      "Enter the student's score: 51\n"
     ]
    },
    {
     "name": "stdout",
     "output_type": "stream",
     "text": [
      "The student's letter grade is: B\n"
     ]
    }
   ],
   "source": [
    "score = int(input(\"Enter the student's score:\"))\n",
    "\n",
    "if score >= 70:\n",
    "     grade = \"A\"\n",
    "elif score >= 50:\n",
    "     grade = \"B\"\n",
    "elif score >= 35:\n",
    "     grade = \"C\"\n",
    "else:\n",
    "     grade = \"Fail\"\n",
    "\n",
    "print(\"The student's letter grade is:\", grade)\n"
   ]
  },
  {
   "cell_type": "markdown",
   "id": "2a033b82-3620-45cb-975f-f6c0f91bbc4a",
   "metadata": {},
   "source": [
    "### Exercise 3"
   ]
  },
  {
   "cell_type": "code",
   "execution_count": 35,
   "id": "dc21c5cd-725e-425b-aa96-bd1834b66b5f",
   "metadata": {},
   "outputs": [
    {
     "name": "stdout",
     "output_type": "stream",
     "text": [
      "120\n",
      "Invalid input\n"
     ]
    }
   ],
   "source": [
    "def factorial(n):\n",
    "    if n < 0:\n",
    "       return(\"Invalid input\")\n",
    "    elif n == 0:\n",
    "       return(1)\n",
    "    else:\n",
    "        result = 1\n",
    "        for number in range(1, n + 1):\n",
    "            result *= number\n",
    "        return(result)\n",
    "\n",
    "print(factorial(5))   # Expected output: 120\n",
    "print(factorial(-1))  # Expected output: \"Invalid input\""
   ]
  }
 ],
 "metadata": {
  "kernelspec": {
   "display_name": "Python 3 (ipykernel)",
   "language": "python",
   "name": "python3"
  },
  "language_info": {
   "codemirror_mode": {
    "name": "ipython",
    "version": 3
   },
   "file_extension": ".py",
   "mimetype": "text/x-python",
   "name": "python",
   "nbconvert_exporter": "python",
   "pygments_lexer": "ipython3",
   "version": "3.12.3"
  },
  "toc": {
   "base_numbering": 1,
   "nav_menu": {},
   "number_sections": true,
   "sideBar": true,
   "skip_h1_title": false,
   "title_cell": "Table of Contents",
   "title_sidebar": "Contents",
   "toc_cell": false,
   "toc_position": {},
   "toc_section_display": true,
   "toc_window_display": false
  },
  "vscode": {
   "interpreter": {
    "hash": "31f2aee4e71d21fbe5cf8b01ff0e069b9275f58929596ceb00d14d90e3e16cd6"
   }
  }
 },
 "nbformat": 4,
 "nbformat_minor": 5
}
