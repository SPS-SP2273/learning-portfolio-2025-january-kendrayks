{
 "cells": [
  {
   "attachments": {},
   "cell_type": "markdown",
   "id": "123456",
   "metadata": {},
   "source": [
    "<div style=\"text-align:left;font-size:2em\"><span style=\"font-weight:bolder;font-size:1.25em\">SP2273 | Learning Portfolio</span><br><br><span style=\"font-weight:bold;color:darkred\">Fundamentals (Need) Exercises</span></div>"
   ]
  },
  {
   "cell_type": "markdown",
   "id": "b899c4af-c5ad-4c32-91ed-2e310de571a5",
   "metadata": {},
   "source": [
    "**Exercise 1**"
   ]
  },
  {
   "cell_type": "markdown",
   "id": "502afcfb-8879-47d2-ae40-5eb8a1c6cf65",
   "metadata": {},
   "source": [
    "Basic Python features:\n",
    "\n",
    "' ' makes the variable an English word or phrase\n",
    "\n",
    "[ ] turns it into a list\n",
    "\n",
    "{ : } is a dictionary\n",
    "\n",
    "import math imports a list of mathematical functions, but can only work for a single number\n",
    "\n",
    "import numpy imports a list of mathematical functions\n",
    "\n",
    "an indentation defines the structure of the code, linking different codes together\n",
    "\n",
    "*#allows people make notes to better understand their code*\n",
    "\n",
    "*= to set something as equal*\n",
    "\n",
    "*== to check if something is equal*\n",
    "\n",
    "*if and else statements allow decisions to be made*\n"
   ]
  },
  {
   "cell_type": "markdown",
   "id": "d30f41ca-b905-40da-bfe9-04ee51f36452",
   "metadata": {},
   "source": [
    "**Exercise 2**"
   ]
  },
  {
   "cell_type": "code",
   "execution_count": 9,
   "id": "b30e2f3f-5901-4e5d-befc-c9fb6fc4aeec",
   "metadata": {},
   "outputs": [
    {
     "name": "stdout",
     "output_type": "stream",
     "text": [
      "3 4 5.0\n"
     ]
    }
   ],
   "source": [
    "import math\n",
    "x,y = 3,4\n",
    "z = math.sqrt(x**2 + y**2)\n",
    "print(x,y,z)"
   ]
  },
  {
   "cell_type": "markdown",
   "id": "cb9afd8d-8b69-468d-b2a4-d8a6aa873375",
   "metadata": {},
   "source": [
    "**Exercise 3**"
   ]
  },
  {
   "cell_type": "markdown",
   "id": "c55088b2-4676-411c-817c-fd624654bc31",
   "metadata": {},
   "source": [
    "|#  |Terms       |Description                                                               |\n",
    "|:--|:----------:|:-------------------------------------------------------------------------|\n",
    "|1  |Function    |'something' that does a specific task                                     |\n",
    "|2  |Arguments   |arguments are instructions to the function                                |\n",
    "|3  |Comments    |anything between the # and the end of the line, ignored by python         |\n",
    "|4  |Indentations|beginning of line that indicates which line of code are together/separate |\n",
    "|5  |Packages    |used to imbue Python with new functionality                               |\n",
    "|6  |.           |indicate ownership                                                        | \n",
    "|7  |:           |to define what to do if answer is true or false when using if and else    |\n",
    "|8  |[]          |for lists of data                                                         |\n",
    "|9  |[ [ ],[ ] ] |higher dimensional list to store corresponding information                | \n",
    "|10 |{}          |dictionary to store a key and associated value                            |"
   ]
  },
  {
   "cell_type": "markdown",
   "id": "776a05da-1b16-4dd5-9b6d-de640e02667b",
   "metadata": {},
   "source": [
    "**Exercise 4**"
   ]
  },
  {
   "cell_type": "code",
   "execution_count": 4,
   "id": "64336926-e8f7-460d-9980-f50830ee220b",
   "metadata": {},
   "outputs": [
    {
     "data": {
      "text/plain": [
       "2.5"
      ]
     },
     "execution_count": 4,
     "metadata": {},
     "output_type": "execute_result"
    }
   ],
   "source": [
    "5/2 #this option calculates the math exactly of the equation"
   ]
  },
  {
   "cell_type": "code",
   "execution_count": 5,
   "id": "6dcb076e-6154-4052-84b1-08a17f13d214",
   "metadata": {},
   "outputs": [
    {
     "data": {
      "text/plain": [
       "2"
      ]
     },
     "execution_count": 5,
     "metadata": {},
     "output_type": "execute_result"
    }
   ],
   "source": [
    "5//2 #this option truncates the number of the equation"
   ]
  },
  {
   "cell_type": "code",
   "execution_count": 6,
   "id": "10bfa216-49d0-4c36-8d2b-fb707debd521",
   "metadata": {},
   "outputs": [
    {
     "data": {
      "text/plain": [
       "1"
      ]
     },
     "execution_count": 6,
     "metadata": {},
     "output_type": "execute_result"
    }
   ],
   "source": [
    "5%2 #this option calculates the remainder of the equation"
   ]
  }
 ],
 "metadata": {
  "kernelspec": {
   "display_name": "Python 3 (ipykernel)",
   "language": "python",
   "name": "python3"
  },
  "language_info": {
   "codemirror_mode": {
    "name": "ipython",
    "version": 3
   },
   "file_extension": ".py",
   "mimetype": "text/x-python",
   "name": "python",
   "nbconvert_exporter": "python",
   "pygments_lexer": "ipython3",
   "version": "3.12.3"
  },
  "toc": {
   "base_numbering": 1,
   "nav_menu": {},
   "number_sections": true,
   "sideBar": true,
   "skip_h1_title": false,
   "title_cell": "Table of Contents",
   "title_sidebar": "Contents",
   "toc_cell": false,
   "toc_position": {},
   "toc_section_display": true,
   "toc_window_display": false
  },
  "vscode": {
   "interpreter": {
    "hash": "31f2aee4e71d21fbe5cf8b01ff0e069b9275f58929596ceb00d14d90e3e16cd6"
   }
  }
 },
 "nbformat": 4,
 "nbformat_minor": 5
}
