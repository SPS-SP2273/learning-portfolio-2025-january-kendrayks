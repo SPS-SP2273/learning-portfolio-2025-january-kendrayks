{
 "cells": [
  {
   "attachments": {},
   "cell_type": "markdown",
   "id": "123456",
   "metadata": {},
   "source": [
    "<div style=\"text-align:left;font-size:2em\"><span style=\"font-weight:bolder;font-size:1.25em\">SP2273 | Learning Portfolio</span><br><br><span style=\"font-weight:bold;color:darkred\">Storing Data (Good) Exercises</span></div>"
   ]
  },
  {
   "cell_type": "markdown",
   "id": "7fb94eca-5a05-4faf-a086-9827b6c42739",
   "metadata": {},
   "source": [
    "**Exercise 1**"
   ]
  },
  {
   "cell_type": "markdown",
   "id": "f00eca3f-672d-46bb-81a9-8baf4155bd60",
   "metadata": {},
   "source": [
    "|Term       |Brief description                                                  |\n",
    "|:----------|:------------------------------------------------------------------|\n",
    "|Subsetting |selecting a subset of the data in a list or array                  |\n",
    "|Indexing   |accessing a specific element in a sequence using its index number  |\n",
    "|Slicing    |selecting a range of elements in a list or array                   |\n",
    "|Masking    |selecting a elements based on its content                          |"
   ]
  },
  {
   "cell_type": "markdown",
   "id": "7d0527dd-8bdc-4071-97c0-4c61201e5dd7",
   "metadata": {},
   "source": [
    "**Exercise 2**"
   ]
  },
  {
   "cell_type": "code",
   "execution_count": 8,
   "id": "b3d47be5-6330-482d-aeb1-58c532e6d399",
   "metadata": {},
   "outputs": [
    {
     "name": "stdout",
     "output_type": "stream",
     "text": [
      "['A' 'C' 'E' 'G' 'I']\n"
     ]
    }
   ],
   "source": [
    "import numpy as np\n",
    "np_array_2d = np.array([[1, \"A\"], [3, \"C\"], [2, \"B\"], [4, \"D\"],\n",
    "                        [5, \"E\"], [7, \"G\"], [6, \"F\"], [8, \"H\"],\n",
    "                        [10, \"J\"], [9, \"I\"]])\n",
    "\n",
    "np_array_2d = np.array([[1, \"A\"], [3, \"C\"], [2, \"B\"], [4, \"D\"],\n",
    "                         [5, \"E\"], [7, \"G\"], [6, \"F\"], [8, \"H\"],\n",
    "                         [10, \"J\"], [9, \"I\"]])\n",
    "\n",
    "numbers = np_array_2d[:, 0].astype(int)\n",
    "mask = numbers % 2 == 1\n",
    "result = np_array_2d[mask, 1]\n",
    "print(result)\n"
   ]
  },
  {
   "cell_type": "markdown",
   "id": "f3473cfa-dc0b-4763-9220-2a1e08c05799",
   "metadata": {},
   "source": [
    "**Exercise 3**"
   ]
  },
  {
   "cell_type": "code",
   "execution_count": 12,
   "id": "750f968a-9781-4e66-92c5-1493a1d2415c",
   "metadata": {},
   "outputs": [
    {
     "name": "stdout",
     "output_type": "stream",
     "text": [
      "[[ 1  0  1 -1 -1]\n",
      " [ 1 -1  1 -1 -1]\n",
      " [ 1 -1 -1  1 -1]\n",
      " [-1  1  1 -1 -1]\n",
      " [ 1 -1  1 -1  1]]\n"
     ]
    }
   ],
   "source": [
    "np_array = np.array([[66, 50, 57, -1, -1],\n",
    "                [92, -1, 88, -1, -1],\n",
    "                [75, -1, -1, 76, -1],\n",
    "                [-1, 51, 87, -1, -1],\n",
    "                [71, -1, 67, -1, 69]])\n",
    "\n",
    "np_array[np_array < 50] = -1  # Values below 50 become -1\n",
    "np_array[np_array > 50] = 1   # Values above 50 become 1\n",
    "np_array[np_array == 50] = 0  # Values equal to 50 become 0\n",
    "\n",
    "# Print the final array\n",
    "print(np_array)\n"
   ]
  }
 ],
 "metadata": {
  "kernelspec": {
   "display_name": "Python 3 (ipykernel)",
   "language": "python",
   "name": "python3"
  },
  "language_info": {
   "codemirror_mode": {
    "name": "ipython",
    "version": 3
   },
   "file_extension": ".py",
   "mimetype": "text/x-python",
   "name": "python",
   "nbconvert_exporter": "python",
   "pygments_lexer": "ipython3",
   "version": "3.12.3"
  },
  "toc": {
   "base_numbering": 1,
   "nav_menu": {},
   "number_sections": true,
   "sideBar": true,
   "skip_h1_title": false,
   "title_cell": "Table of Contents",
   "title_sidebar": "Contents",
   "toc_cell": false,
   "toc_position": {},
   "toc_section_display": true,
   "toc_window_display": false
  },
  "vscode": {
   "interpreter": {
    "hash": "31f2aee4e71d21fbe5cf8b01ff0e069b9275f58929596ceb00d14d90e3e16cd6"
   }
  }
 },
 "nbformat": 4,
 "nbformat_minor": 5
}
