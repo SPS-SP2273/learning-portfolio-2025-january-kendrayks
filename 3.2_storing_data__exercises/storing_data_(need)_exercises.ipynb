{
 "cells": [
  {
   "attachments": {},
   "cell_type": "markdown",
   "id": "123456",
   "metadata": {},
   "source": [
    "<div style=\"text-align:left;font-size:2em\"><span style=\"font-weight:bolder;font-size:1.25em\">SP2273 | Learning Portfolio</span><br><br><span style=\"font-weight:bold;color:darkred\">Storing Data (Need) Exercises</span></div>"
   ]
  },
  {
   "cell_type": "markdown",
   "id": "55a6bea4-8b6e-4cfc-8d56-16bb3d3a6106",
   "metadata": {},
   "source": [
    "**Exercise 1**"
   ]
  },
  {
   "cell_type": "markdown",
   "id": "8ba44f5b-5eeb-48c9-a2cc-6fee5d9d6c07",
   "metadata": {},
   "source": [
    "1. Both can store data called elements and have data accessed from it. *Both can use the len() function to find out the length, or number of elements, of the list or array.*\n",
    "\n",
    "2. List can consist of elements belonging to different variable types, array can only consist of elements belonging to one variable type. List cannot handle arithmetic math, array can handle arithmetic math like squaring, multiplying, adding.\n"
   ]
  },
  {
   "cell_type": "markdown",
   "id": "1e151f9a-a213-4973-a1c8-220f98ec682e",
   "metadata": {},
   "source": [
    "**Exercise 2**"
   ]
  },
  {
   "cell_type": "code",
   "execution_count": 6,
   "id": "5bc72ae0-efb2-4947-919a-8dd1ed656cf2",
   "metadata": {},
   "outputs": [
    {
     "name": "stdout",
     "output_type": "stream",
     "text": [
      "a1\n",
      "c3\n",
      "e5\n",
      "g7\n",
      "i9\n"
     ]
    }
   ],
   "source": [
    "py_list = [\"a1\", \"b2\", \"c3\", \"d4\", \"e5\", \"f6\", \"g7\", \"h8\", \"i9\", \"j10\"]\n",
    "print(py_list[0])   # Prints 'a1'\n",
    "print(py_list[2])   # Prints 'c3'\n",
    "print(py_list[4])   # Prints 'e5'\n",
    "print(py_list[6])   # Prints 'g7'\n",
    "print(py_list[8])   # Prints 'i9'\n"
   ]
  },
  {
   "cell_type": "markdown",
   "id": "98134e11-516e-42ac-a8fa-e80cc826140e",
   "metadata": {},
   "source": [
    "**Exercise 3**"
   ]
  },
  {
   "cell_type": "code",
   "execution_count": 16,
   "id": "631d400a-2854-4a94-9ca7-9b17dfe7b1eb",
   "metadata": {},
   "outputs": [
    {
     "name": "stdout",
     "output_type": "stream",
     "text": [
      "Boron\n",
      "Boron\n"
     ]
    }
   ],
   "source": [
    "elements = ['Hydrogen',\n",
    "            'Helium', 'Lithium',\n",
    "            'Beryllium', 'Boron', 'Carbon',\n",
    "            'Nitrogen', 'Oxygen',\n",
    "            'Fluorine',\n",
    "            'Neon']\n",
    "print(elements[4])\n",
    "len(elements)\n",
    "print(elements[-6])"
   ]
  },
  {
   "cell_type": "markdown",
   "id": "3c12e184-3995-43a7-9d0c-800ae4605738",
   "metadata": {},
   "source": [
    "**Exercise 4**"
   ]
  },
  {
   "cell_type": "code",
   "execution_count": 48,
   "id": "2cf6ebee-f901-4dc9-b6af-2fd0b49ef237",
   "metadata": {},
   "outputs": [
    {
     "name": "stdout",
     "output_type": "stream",
     "text": [
      "[False False  True False False  True False False False  True False False\n",
      " False False False False False  True  True False False False False False\n",
      " False False False False  True False  True False False False False False\n",
      "  True False False False False False False  True False False False False\n",
      " False False]\n"
     ]
    },
    {
     "data": {
      "text/plain": [
       "np.int64(9)"
      ]
     },
     "execution_count": 48,
     "metadata": {},
     "output_type": "execute_result"
    }
   ],
   "source": [
    "numbers=[45, 60, 1, 30, 96, 1, 96, 57, 16, 1,\n",
    "        99, 62, 86, 43, 42, 60, 59, 1, 1, 35,\n",
    "        83, 47, 34, 28, 68, 23, 22, 92, 1, 79,\n",
    "        1, 29, 94, 72, 46, 47, 1, 74, 32, 20,\n",
    "        8, 37, 35, 1, 89, 29, 86, 19, 43, 61]                  \n",
    "import numpy as np\n",
    "np_array_numbers=np.array(numbers)\n",
    "np_array_numbers==1\n",
    "array_truefalse = np_array_numbers == 1\n",
    "print(array_truefalse)\n",
    "array_truefalse.sum()\n"
   ]
  },
  {
   "cell_type": "markdown",
   "id": "51c2318f-cc3e-4787-bcee-76fa1a1bf3fe",
   "metadata": {},
   "source": [
    "**Exercise 5**"
   ]
  },
  {
   "cell_type": "code",
   "execution_count": 57,
   "id": "8e531c06-f0fc-4c36-b2c8-ca87e016f55c",
   "metadata": {},
   "outputs": [
    {
     "data": {
      "text/plain": [
       "np.float64(38.5)"
      ]
     },
     "execution_count": 57,
     "metadata": {},
     "output_type": "execute_result"
    }
   ],
   "source": [
    "x_1 = [1, 4, 9, 16, 25, 36, 49, 64, 81, 100]\n",
    "x_2 = [1, 8, 27, 64, 125, 216, 343, 512, 729, 1000]\n",
    "np_x_1 = np.array(x_1)\n",
    "np_x_1.mean()"
   ]
  },
  {
   "cell_type": "code",
   "execution_count": 63,
   "id": "3c7aa096-28ae-4d63-94a9-23c031df4c3f",
   "metadata": {},
   "outputs": [
    {
     "data": {
      "text/plain": [
       "np.float64(302.5)"
      ]
     },
     "execution_count": 63,
     "metadata": {},
     "output_type": "execute_result"
    }
   ],
   "source": [
    "np_x_2 = np.array(x_2)\n",
    "np_x_2.mean()"
   ]
  },
  {
   "cell_type": "code",
   "execution_count": 61,
   "id": "941f3ed4-a49a-4deb-92f2-7b13017ec931",
   "metadata": {},
   "outputs": [
    {
     "data": {
      "text/plain": [
       "np.float64(32.41990129534635)"
      ]
     },
     "execution_count": 61,
     "metadata": {},
     "output_type": "execute_result"
    }
   ],
   "source": [
    "np_x_1.std()"
   ]
  },
  {
   "cell_type": "code",
   "execution_count": 60,
   "id": "be2ba705-b65d-4c24-9052-7c7707ddb43d",
   "metadata": {},
   "outputs": [
    {
     "data": {
      "text/plain": [
       "np.float64(326.0893282522444)"
      ]
     },
     "execution_count": 60,
     "metadata": {},
     "output_type": "execute_result"
    }
   ],
   "source": [
    "np_x_2.std()"
   ]
  },
  {
   "cell_type": "code",
   "execution_count": 69,
   "id": "30dc0f9b-aa1a-4128-ad0f-3eb5f2d48f62",
   "metadata": {},
   "outputs": [],
   "source": [
    "x_1_mean=np_x_1.mean()\n",
    "x_2_mean=np_x_2.mean()\n",
    "x_1_std=np_x_1.std()\n",
    "x_2_std=np_x_2.std()"
   ]
  },
  {
   "cell_type": "code",
   "execution_count": null,
   "id": "2bff34ba-a748-4d12-8322-82072c687af9",
   "metadata": {},
   "outputs": [],
   "source": []
  }
 ],
 "metadata": {
  "kernelspec": {
   "display_name": "Python 3 (ipykernel)",
   "language": "python",
   "name": "python3"
  },
  "language_info": {
   "codemirror_mode": {
    "name": "ipython",
    "version": 3
   },
   "file_extension": ".py",
   "mimetype": "text/x-python",
   "name": "python",
   "nbconvert_exporter": "python",
   "pygments_lexer": "ipython3",
   "version": "3.12.3"
  },
  "toc": {
   "base_numbering": 1,
   "nav_menu": {},
   "number_sections": true,
   "sideBar": true,
   "skip_h1_title": false,
   "title_cell": "Table of Contents",
   "title_sidebar": "Contents",
   "toc_cell": false,
   "toc_position": {},
   "toc_section_display": true,
   "toc_window_display": false
  },
  "vscode": {
   "interpreter": {
    "hash": "31f2aee4e71d21fbe5cf8b01ff0e069b9275f58929596ceb00d14d90e3e16cd6"
   }
  }
 },
 "nbformat": 4,
 "nbformat_minor": 5
}
