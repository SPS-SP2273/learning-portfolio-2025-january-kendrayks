{
 "cells": [
  {
   "attachments": {},
   "cell_type": "markdown",
   "id": "123456",
   "metadata": {},
   "source": [
    "<div style=\"text-align:left;font-size:2em\"><span style=\"font-weight:bolder;font-size:1.25em\">SP2273 | Learning Portfolio</span><br><br><span style=\"font-weight:bold;color:darkred\">Loops (Need) Exercises</span></div>"
   ]
  },
  {
   "cell_type": "markdown",
   "id": "3dac16ed-415c-4c44-ab1b-62691c1b4d55",
   "metadata": {},
   "source": [
    "**Exercise 1**"
   ]
  },
  {
   "cell_type": "code",
   "execution_count": 16,
   "id": "fceb6927-615a-4cfa-b97c-2587662ffb30",
   "metadata": {},
   "outputs": [
    {
     "name": "stdout",
     "output_type": "stream",
     "text": [
      "0 Celsius, 32.0 Fahrenheit\n",
      "5 Celsius, 41.0 Fahrenheit\n",
      "10 Celsius, 50.0 Fahrenheit\n",
      "15 Celsius, 59.0 Fahrenheit\n",
      "20 Celsius, 68.0 Fahrenheit\n",
      "25 Celsius, 77.0 Fahrenheit\n",
      "30 Celsius, 86.0 Fahrenheit\n",
      "35 Celsius, 95.0 Fahrenheit\n",
      "40 Celsius, 104.0 Fahrenheit\n",
      "45 Celsius, 113.0 Fahrenheit\n",
      "50 Celsius, 122.0 Fahrenheit\n"
     ]
    }
   ],
   "source": [
    "temperatures_celsius = [\n",
    "    0, 5, 10, 15, 20, 25,\n",
    "    30, 35, 40, 45, 50\n",
    "]     #F= (C*9 /5) + 32\n",
    "\n",
    "for celsius in temperatures_celsius:\n",
    "    fahrenheit = (celsius * 9/5) + 32\n",
    "    print(f\"{celsius} Celsius, {fahrenheit} Fahrenheit\")"
   ]
  },
  {
   "cell_type": "markdown",
   "id": "b8af2744-5792-4a88-b3ec-dfdaba964d68",
   "metadata": {},
   "source": [
    "**Exercise 2**"
   ]
  },
  {
   "cell_type": "code",
   "execution_count": 58,
   "id": "138b769e-68b0-4ffd-a5e9-384b18a85d36",
   "metadata": {},
   "outputs": [
    {
     "name": "stdout",
     "output_type": "stream",
     "text": [
      "102:1\n",
      "102:11\n",
      "102:111\n",
      "102:1111\n",
      "102:11111\n",
      "102:2\n",
      "102:22\n",
      "102:222\n",
      "102:2222\n",
      "102:22222\n",
      "102:3\n",
      "102:33\n",
      "102:333\n",
      "102:3333\n",
      "102:33333\n",
      "102:4\n",
      "102:44\n",
      "102:444\n",
      "102:4444\n",
      "102:44444\n",
      "102:5\n",
      "102:55\n",
      "102:555\n",
      "102:5555\n",
      "102:55555\n"
     ]
    }
   ],
   "source": [
    "for letter in ['1', '2', '3','4','5']:\n",
    "    for number in [1, 2, 3, 4, 5]:\n",
    "        print(f'{count}:{letter*number}')\n",
    "            "
   ]
  },
  {
   "cell_type": "code",
   "execution_count": 50,
   "id": "289c14b6-896f-4b63-85a3-4fb38a2c4965",
   "metadata": {},
   "outputs": [
    {
     "name": "stdout",
     "output_type": "stream",
     "text": [
      "0: Natasha Romanoff is a Marvel superhero!\n",
      "1: Tony Stark is a Marvel superhero!\n",
      "2: Stephen Strange is a Marvel superhero!\n",
      "100: Natasha Romanoff is a Marvel superhero!\n",
      "101: Tony Stark is a Marvel superhero!\n",
      "102: Stephen Strange is a Marvel superhero!\n",
      "Natasha Romanoff is Marvel's Black Widow!\n",
      "Tony Stark is Marvel's Iron Man!\n",
      "Stephen Strange is Marvel's Doctor Strange!\n"
     ]
    }
   ],
   "source": [
    "super_names = [\"Black Widow\", \"Iron Man\", \"Doctor Strange\"]\n",
    "real_names = [\"Natasha Romanoff\", \"Tony Stark\", \"Stephen Strange\"]\n",
    "for count, name in enumerate(real_names):\n",
    "    print(f'{count}: {name} is a Marvel superhero!')\n",
    "\n",
    "for count, name in enumerate(real_names, 100):\n",
    "    print(f'{count}: {name} is a Marvel superhero!')\n",
    "\n",
    "for i in range(len(real_names)):\n",
    "    real_name = real_names[i]\n",
    "    super_name = super_names[i]        \n",
    "    print(f\"{real_name} is Marvel's {super_name}!\")"
   ]
  },
  {
   "cell_type": "code",
   "execution_count": 43,
   "id": "e84d85dd-4288-45d0-a59f-97efa816b366",
   "metadata": {},
   "outputs": [
    {
     "name": "stdout",
     "output_type": "stream",
     "text": [
      "1: 1\t\n",
      "\n",
      "1: 4\t\n",
      "\n",
      "1: 9\t\n",
      "\n",
      "1: 16\t\n",
      "\n",
      "1: 25\t\n",
      "\n",
      "2: 1\t\n",
      "\n",
      "2: 4\t\n",
      "\n",
      "2: 9\t\n",
      "\n",
      "2: 16\t\n",
      "\n",
      "2: 25\t\n",
      "\n",
      "3: 1\t\n",
      "\n",
      "3: 4\t\n",
      "\n",
      "3: 9\t\n",
      "\n",
      "3: 16\t\n",
      "\n",
      "3: 25\t\n",
      "\n",
      "4: 1\t\n",
      "\n",
      "4: 4\t\n",
      "\n",
      "4: 9\t\n",
      "\n",
      "4: 16\t\n",
      "\n",
      "4: 25\t\n",
      "\n",
      "5: 1\t\n",
      "\n",
      "5: 4\t\n",
      "\n",
      "5: 9\t\n",
      "\n",
      "5: 16\t\n",
      "\n",
      "5: 25\t\n",
      "\n"
     ]
    }
   ],
   "source": [
    "for i in range(1, 6):\n",
    "    for count, number in enumerate(range(1,6),1):\n",
    "        print(f'{i}: {count*number}', end='\\t')\n",
    "\n",
    "        print('\\n') #to create spacing between bumbers\n",
    "    "
   ]
  },
  {
   "cell_type": "code",
   "execution_count": 61,
   "id": "319a4cdf-8ae9-493f-a879-56e832266737",
   "metadata": {},
   "outputs": [
    {
     "name": "stdout",
     "output_type": "stream",
     "text": [
      "1:    1    2    3    4    5\n",
      "2:    2    4    6    8   10\n",
      "3:    3    6    9   12   15\n",
      "4:    4    8   12   16   20\n",
      "5:    5   10   15   20   25\n"
     ]
    }
   ],
   "source": [
    "for row_num in range(1, 6):\n",
    "    print(f\"{row_num}:\", end=\"\")\n",
    "    for col_num in range(1, 6):\n",
    "        print(f\"{row_num * col_num:5}\", end=\"\")  # Use :3 to format with a width of 3\n",
    "    print()"
   ]
  },
  {
   "cell_type": "markdown",
   "id": "ffefe767-edc8-4428-9675-6b6c41f8d423",
   "metadata": {},
   "source": [
    "**Exercise 3**"
   ]
  },
  {
   "cell_type": "code",
   "execution_count": 15,
   "id": "a416ebc2-5fce-472d-8a61-b98034414817",
   "metadata": {},
   "outputs": [
    {
     "data": {
      "text/plain": [
       "array([0.45180501, 0.04483853, 0.46930923, 0.40867055, 0.81674855,\n",
       "       0.43908017, 0.82517338, 0.98167342, 0.57682666, 0.8003414 ])"
      ]
     },
     "execution_count": 15,
     "metadata": {},
     "output_type": "execute_result"
    }
   ],
   "source": [
    "import numpy as np\n",
    "np.random.rand(10)"
   ]
  },
  {
   "cell_type": "code",
   "execution_count": 22,
   "id": "75d9e0fc-7247-4f87-ab00-b21b7bd72a6e",
   "metadata": {},
   "outputs": [
    {
     "name": "stdout",
     "output_type": "stream",
     "text": [
      "Experiment 1: No. of Heads = 6\n",
      "Experiment 2: No. of Heads = 5\n",
      "Experiment 3: No. of Heads = 5\n",
      "Experiment 4: No. of Heads = 4\n",
      "Experiment 5: No. of Heads = 4\n",
      "Experiment 6: No. of Heads = 5\n",
      "Experiment 7: No. of Heads = 5\n",
      "Experiment 8: No. of Heads = 7\n",
      "Experiment 9: No. of Heads = 7\n",
      "Experiment 10: No. of Heads = 4\n"
     ]
    }
   ],
   "source": [
    "import random\n",
    "\n",
    "def coin_flip_experiment():\n",
    "    \"\"\"Simulates flipping a coin 10 times and counts the number of heads.\"\"\"\n",
    "    heads_count = 0\n",
    "    for _ in range(10):  # Flip the coin 10 times\n",
    "        if random.choice(['H', 'T']) == 'H':  # Randomly choose Heads or Tails\n",
    "            heads_count += 1\n",
    "    return heads_count\n",
    "\n",
    "# Run the experiment 10 times\n",
    "for experiment_num in range(1, 11):\n",
    "    heads = coin_flip_experiment()\n",
    "    print(f\"Experiment {experiment_num}: No. of Heads = {heads}\")"
   ]
  },
  {
   "cell_type": "code",
   "execution_count": null,
   "id": "fda31d77-49f3-4ad0-af31-8c39c3e3fb8d",
   "metadata": {},
   "outputs": [],
   "source": []
  },
  {
   "cell_type": "code",
   "execution_count": 59,
   "id": "db1cb22c-e7e1-4f9f-b4c7-b8fddf619dc5",
   "metadata": {},
   "outputs": [
    {
     "name": "stdout",
     "output_type": "stream",
     "text": [
      "0\n",
      "1\n",
      "2\n",
      "3\n",
      "4\n"
     ]
    }
   ],
   "source": [
    "for i in range(5):\n",
    "    print(i)"
   ]
  },
  {
   "cell_type": "code",
   "execution_count": null,
   "id": "7f5b1905-76bc-49f2-b8a6-2b0710884daa",
   "metadata": {},
   "outputs": [],
   "source": [
    "Number = \n",
    "for i in range(5):\n",
    "    print(f'"
   ]
  },
  {
   "cell_type": "code",
   "execution_count": null,
   "id": "2982254d-23dc-491e-8622-f000e69004c0",
   "metadata": {},
   "outputs": [],
   "source": []
  }
 ],
 "metadata": {
  "kernelspec": {
   "display_name": "Python 3 (ipykernel)",
   "language": "python",
   "name": "python3"
  },
  "language_info": {
   "codemirror_mode": {
    "name": "ipython",
    "version": 3
   },
   "file_extension": ".py",
   "mimetype": "text/x-python",
   "name": "python",
   "nbconvert_exporter": "python",
   "pygments_lexer": "ipython3",
   "version": "3.12.3"
  },
  "toc": {
   "base_numbering": 1,
   "nav_menu": {},
   "number_sections": true,
   "sideBar": true,
   "skip_h1_title": false,
   "title_cell": "Table of Contents",
   "title_sidebar": "Contents",
   "toc_cell": false,
   "toc_position": {},
   "toc_section_display": true,
   "toc_window_display": false
  },
  "vscode": {
   "interpreter": {
    "hash": "31f2aee4e71d21fbe5cf8b01ff0e069b9275f58929596ceb00d14d90e3e16cd6"
   }
  }
 },
 "nbformat": 4,
 "nbformat_minor": 5
}
