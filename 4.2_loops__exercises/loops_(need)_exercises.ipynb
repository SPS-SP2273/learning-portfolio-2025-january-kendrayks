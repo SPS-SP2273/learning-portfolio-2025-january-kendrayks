{
 "cells": [
  {
   "attachments": {},
   "cell_type": "markdown",
   "id": "123456",
   "metadata": {},
   "source": [
    "<div style=\"text-align:left;font-size:2em\"><span style=\"font-weight:bolder;font-size:1.25em\">SP2273 | Learning Portfolio</span><br><br><span style=\"font-weight:bold;color:darkred\">Loops (Need) Exercises</span></div>"
   ]
  },
  {
   "cell_type": "markdown",
   "id": "3dac16ed-415c-4c44-ab1b-62691c1b4d55",
   "metadata": {},
   "source": [
    "**Exercise 1**"
   ]
  },
  {
   "cell_type": "code",
   "execution_count": 10,
   "id": "fceb6927-615a-4cfa-b97c-2587662ffb30",
   "metadata": {},
   "outputs": [
    {
     "name": "stdout",
     "output_type": "stream",
     "text": [
      "0 Celsius, 32.0 Fahrenheit\n",
      "5 Celsius, 41.0 Fahrenheit\n",
      "10 Celsius, 50.0 Fahrenheit\n",
      "15 Celsius, 59.0 Fahrenheit\n",
      "20 Celsius, 68.0 Fahrenheit\n",
      "25 Celsius, 77.0 Fahrenheit\n",
      "30 Celsius, 86.0 Fahrenheit\n",
      "35 Celsius, 95.0 Fahrenheit\n",
      "40 Celsius, 104.0 Fahrenheit\n",
      "45 Celsius, 113.0 Fahrenheit\n",
      "50 Celsius, 122.0 Fahrenheit\n"
     ]
    }
   ],
   "source": [
    "temperatures_celsius = [\n",
    "    0, 5, 10, 15, 20, 25,\n",
    "    30, 35, 40, 45, 50\n",
    "]     #F= (C*9 /5) + 32\n",
    "\n",
    "for celsius in temperatures_celsius:\n",
    "    fahrenheit = (celsius * 9/5) + 32  # Conversion formula\n",
    "    print(f\"{celsius} Celsius, {fahrenheit} Fahrenheit\")\n",
    "\n"
   ]
  },
  {
   "cell_type": "markdown",
   "id": "b8af2744-5792-4a88-b3ec-dfdaba964d68",
   "metadata": {},
   "source": [
    "**Exercise 2**"
   ]
  },
  {
   "cell_type": "code",
   "execution_count": 12,
   "id": "138b769e-68b0-4ffd-a5e9-384b18a85d36",
   "metadata": {},
   "outputs": [
    {
     "name": "stdout",
     "output_type": "stream",
     "text": [
      "A1\tA2\tA3\t\n",
      "\n",
      "B1\tB2\tB3\t\n",
      "\n",
      "C1\tC2\tC3\t\n",
      "\n"
     ]
    }
   ],
   "source": [
    "for letter in ['A', 'B', 'C']:\n",
    "    for number in [1, 2, 3]:\n",
    "        print(f'{letter}{number}', end='\\t')\n",
    "    print('\\n')"
   ]
  },
  {
   "cell_type": "code",
   "execution_count": 11,
   "id": "e84d85dd-4288-45d0-a59f-97efa816b366",
   "metadata": {},
   "outputs": [
    {
     "name": "stdout",
     "output_type": "stream",
     "text": [
      "1: 1  2  3  4  5  \n",
      "2: 2  4  6  8  10  \n",
      "3: 3  6  9  12  15  \n",
      "4: 4  8  12  16  20  \n",
      "5: 5  10  15  20  25  \n"
     ]
    }
   ],
   "source": [
    "for i in range(1, 6):\n",
    "    print(f\"{i}: \", end=\"\")  \n",
    "\n",
    "    for j in range(1, 6): \n",
    "        print(i * j, end=\"  \")  \n",
    "\n",
    "    print() "
   ]
  },
  {
   "cell_type": "markdown",
   "id": "ffefe767-edc8-4428-9675-6b6c41f8d423",
   "metadata": {},
   "source": [
    "**Exercise 3**"
   ]
  },
  {
   "cell_type": "code",
   "execution_count": 15,
   "id": "a416ebc2-5fce-472d-8a61-b98034414817",
   "metadata": {},
   "outputs": [
    {
     "data": {
      "text/plain": [
       "array([0.45180501, 0.04483853, 0.46930923, 0.40867055, 0.81674855,\n",
       "       0.43908017, 0.82517338, 0.98167342, 0.57682666, 0.8003414 ])"
      ]
     },
     "execution_count": 15,
     "metadata": {},
     "output_type": "execute_result"
    }
   ],
   "source": [
    "import numpy as np\n",
    "np.random.rand(10)"
   ]
  },
  {
   "cell_type": "code",
   "execution_count": 16,
   "id": "75d9e0fc-7247-4f87-ab00-b21b7bd72a6e",
   "metadata": {},
   "outputs": [
    {
     "name": "stdout",
     "output_type": "stream",
     "text": [
      "Experiment 1: No. of Heads = 2\n",
      "Experiment 2: No. of Heads = 4\n",
      "Experiment 3: No. of Heads = 5\n",
      "Experiment 4: No. of Heads = 6\n",
      "Experiment 5: No. of Heads = 6\n",
      "Experiment 6: No. of Heads = 2\n",
      "Experiment 7: No. of Heads = 2\n",
      "Experiment 8: No. of Heads = 4\n",
      "Experiment 9: No. of Heads = 4\n",
      "Experiment 10: No. of Heads = 8\n"
     ]
    }
   ],
   "source": [
    "import random\n",
    "\n",
    "def coin_flip_experiment():\n",
    "    \"\"\"Simulates flipping a coin 10 times and counts the number of heads.\"\"\"\n",
    "    heads_count = 0\n",
    "    for _ in range(10):  # Flip the coin 10 times\n",
    "        if random.choice(['H', 'T']) == 'H':  # Randomly choose Heads or Tails\n",
    "            heads_count += 1\n",
    "    return heads_count\n",
    "\n",
    "# Run the experiment 10 times\n",
    "for experiment_num in range(1, 11):\n",
    "    heads = coin_flip_experiment()\n",
    "    print(f\"Experiment {experiment_num}: No. of Heads = {heads}\")"
   ]
  }
 ],
 "metadata": {
  "kernelspec": {
   "display_name": "Python 3 (ipykernel)",
   "language": "python",
   "name": "python3"
  },
  "language_info": {
   "codemirror_mode": {
    "name": "ipython",
    "version": 3
   },
   "file_extension": ".py",
   "mimetype": "text/x-python",
   "name": "python",
   "nbconvert_exporter": "python",
   "pygments_lexer": "ipython3",
   "version": "3.12.3"
  },
  "toc": {
   "base_numbering": 1,
   "nav_menu": {},
   "number_sections": true,
   "sideBar": true,
   "skip_h1_title": false,
   "title_cell": "Table of Contents",
   "title_sidebar": "Contents",
   "toc_cell": false,
   "toc_position": {},
   "toc_section_display": true,
   "toc_window_display": false
  },
  "vscode": {
   "interpreter": {
    "hash": "31f2aee4e71d21fbe5cf8b01ff0e069b9275f58929596ceb00d14d90e3e16cd6"
   }
  }
 },
 "nbformat": 4,
 "nbformat_minor": 5
}
