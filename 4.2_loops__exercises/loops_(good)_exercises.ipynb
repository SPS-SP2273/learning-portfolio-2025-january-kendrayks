{
 "cells": [
  {
   "attachments": {},
   "cell_type": "markdown",
   "id": "123456",
   "metadata": {},
   "source": [
    "<div style=\"text-align:left;font-size:2em\"><span style=\"font-weight:bolder;font-size:1.25em\">SP2273 | Learning Portfolio</span><br><br><span style=\"font-weight:bold;color:darkred\">Loops (Good) Exercises</span></div>"
   ]
  },
  {
   "cell_type": "markdown",
   "id": "30fa287b-6aa6-4aaa-ad0d-9348cd3cbb92",
   "metadata": {},
   "source": [
    "**Exercise 1**"
   ]
  },
  {
   "cell_type": "code",
   "execution_count": 1,
   "id": "e44d808e-19d9-45d4-bb09-adafa3a4cfbd",
   "metadata": {},
   "outputs": [
    {
     "name": "stdout",
     "output_type": "stream",
     "text": [
      "[1, 9, 25, 49, 81]\n"
     ]
    }
   ],
   "source": [
    "odd_squares = []  # Initialize an empty list to store the results\n",
    "\n",
    "for num in range(10):  # Loop through numbers from 0 to 9\n",
    "    if num % 2 == 0:  # Check if the number is even\n",
    "        continue  # Skip to the next iteration if it's even\n",
    "    \n",
    "    odd_squares.append(num ** 2)  # If odd, calculate the square and add it to the list\n",
    "\n",
    "print(odd_squares)  # Print the list of odd squares"
   ]
  },
  {
   "cell_type": "markdown",
   "id": "b5f5b566-2724-40b1-98ec-ecb67a0f786f",
   "metadata": {},
   "source": [
    "**Exercise 2**"
   ]
  },
  {
   "cell_type": "code",
   "execution_count": 2,
   "id": "cc8165ca-460e-42fb-96e1-e349cdd8a521",
   "metadata": {},
   "outputs": [
    {
     "name": "stdout",
     "output_type": "stream",
     "text": [
      "[1, 9, 25, 49, 81]\n"
     ]
    }
   ],
   "source": [
    "odd_squares = [num**2 for num in range(10) if num % 2 != 0]\n",
    "print(odd_squares)"
   ]
  },
  {
   "cell_type": "markdown",
   "id": "e8f2dce1-5af9-423c-93a3-de46c1b30dab",
   "metadata": {},
   "source": [
    "**Exercise 3**"
   ]
  },
  {
   "cell_type": "code",
   "execution_count": 3,
   "id": "182e5ae7-b2b7-413d-b041-3d1ea7cdacde",
   "metadata": {},
   "outputs": [
    {
     "name": "stdout",
     "output_type": "stream",
     "text": [
      "2.47 μs ± 49.5 ns per loop (mean ± std. dev. of 7 runs, 100,000 loops each)\n"
     ]
    }
   ],
   "source": [
    "%%timeit\n",
    "odd_squares = [] \n",
    "for num in range(10):  \n",
    "    if num % 2 == 0:  \n",
    "        continue  \n",
    "    odd_squares.append(num ** 2)"
   ]
  },
  {
   "cell_type": "code",
   "execution_count": 5,
   "id": "8a330aae-e34d-4584-852d-2bc17927e8ad",
   "metadata": {},
   "outputs": [
    {
     "name": "stdout",
     "output_type": "stream",
     "text": [
      "2.37 μs ± 170 ns per loop (mean ± std. dev. of 7 runs, 100,000 loops each)\n"
     ]
    }
   ],
   "source": [
    "%%timeit\n",
    "odd_squares = [num**2 for num in range(10) if num % 2 != 0]"
   ]
  },
  {
   "cell_type": "markdown",
   "id": "396bac3d-a4a9-4b3b-8b67-8713647e4895",
   "metadata": {},
   "source": [
    "**Exercise 4**"
   ]
  },
  {
   "cell_type": "code",
   "execution_count": 6,
   "id": "3c4cd4af-a8b6-4cf3-8fe7-3abfbab38cc0",
   "metadata": {},
   "outputs": [
    {
     "name": "stdout",
     "output_type": "stream",
     "text": [
      "It will take 14 years for the sample to reduce to half its original amount.\n"
     ]
    }
   ],
   "source": [
    "initial_quantity = 100\n",
    "current_quantity = initial_quantity\n",
    "decay_rate = 0.05  # 5% decay\n",
    "half_life = initial_quantity / 2\n",
    "years = 0\n",
    "\n",
    "while current_quantity > half_life:\n",
    "    current_quantity -= current_quantity * decay_rate\n",
    "    years += 1\n",
    "\n",
    "print(f\"It will take {years} years for the sample to reduce to half its original amount.\")"
   ]
  },
  {
   "cell_type": "markdown",
   "id": "c1cee51e-1c94-4436-8cf8-c282566a12a3",
   "metadata": {},
   "source": [
    "**Exercise 5**"
   ]
  },
  {
   "cell_type": "code",
   "execution_count": 7,
   "id": "5e61ca2e-81aa-4f55-9d16-61a2320298c7",
   "metadata": {},
   "outputs": [
    {
     "name": "stdout",
     "output_type": "stream",
     "text": [
      "Year: 2016, CO2 Change: 3.41 ppm\n"
     ]
    }
   ],
   "source": [
    "co2_data = [\n",
    "    (2000, 369.55), (2001, 371.14), (2002, 373.28),\n",
    "    (2003, 375.80), (2004, 377.52), (2005, 379.80),\n",
    "    (2006, 381.90), (2007, 383.79), (2008, 385.60),\n",
    "    (2009, 387.43), (2010, 389.90), (2011, 391.65),\n",
    "    (2012, 393.85), (2013, 396.52), (2014, 398.65),\n",
    "    (2015, 400.83), (2016, 404.24), (2017, 406.55),\n",
    "    (2018, 408.52), (2019, 411.44), (2020, 414.24)\n",
    "]\n",
    "\n",
    "for i in range(1, len(co2_data)):\n",
    "    year, co2_level = co2_data[i]\n",
    "    prev_year, prev_co2_level = co2_data[i-1]\n",
    "    \n",
    "    co2_change = co2_level - prev_co2_level\n",
    "    \n",
    "    if co2_change >= 3:\n",
    "        print(f\"Year: {year}, CO2 Change: {co2_change:.2f} ppm\")"
   ]
  }
 ],
 "metadata": {
  "kernelspec": {
   "display_name": "Python 3 (ipykernel)",
   "language": "python",
   "name": "python3"
  },
  "language_info": {
   "codemirror_mode": {
    "name": "ipython",
    "version": 3
   },
   "file_extension": ".py",
   "mimetype": "text/x-python",
   "name": "python",
   "nbconvert_exporter": "python",
   "pygments_lexer": "ipython3",
   "version": "3.12.3"
  },
  "toc": {
   "base_numbering": 1,
   "nav_menu": {},
   "number_sections": true,
   "sideBar": true,
   "skip_h1_title": false,
   "title_cell": "Table of Contents",
   "title_sidebar": "Contents",
   "toc_cell": false,
   "toc_position": {},
   "toc_section_display": true,
   "toc_window_display": false
  },
  "vscode": {
   "interpreter": {
    "hash": "31f2aee4e71d21fbe5cf8b01ff0e069b9275f58929596ceb00d14d90e3e16cd6"
   }
  }
 },
 "nbformat": 4,
 "nbformat_minor": 5
}
