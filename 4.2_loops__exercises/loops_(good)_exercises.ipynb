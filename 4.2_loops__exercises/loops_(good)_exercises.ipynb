{
 "cells": [
  {
   "attachments": {},
   "cell_type": "markdown",
   "id": "123456",
   "metadata": {},
   "source": [
    "<div style=\"text-align:left;font-size:2em\"><span style=\"font-weight:bolder;font-size:1.25em\">SP2273 | Learning Portfolio</span><br><br><span style=\"font-weight:bold;color:darkred\">Loops (Good) Exercises</span></div>"
   ]
  },
  {
   "cell_type": "markdown",
   "id": "30fa287b-6aa6-4aaa-ad0d-9348cd3cbb92",
   "metadata": {},
   "source": [
    "**Exercise 1**"
   ]
  },
  {
   "cell_type": "code",
   "execution_count": 1,
   "id": "c318ffe4-5607-4eb3-85f0-8c236627af86",
   "metadata": {},
   "outputs": [],
   "source": [
    "import numpy as np\n",
    "for num in range(10):\n",
    "    if num % 2 == 0:\n",
    "        continue\n",
    "        number = num**2\n",
    "        print (num, number)"
   ]
  },
  {
   "cell_type": "raw",
   "id": "bbc33df8-d350-44f9-8f4d-b077d113ca4e",
   "metadata": {},
   "source": [
    "print('hello')"
   ]
  },
  {
   "cell_type": "code",
   "execution_count": null,
   "id": "fabdb198-420f-484b-9ed5-9dae4153fc25",
   "metadata": {},
   "outputs": [],
   "source": [
    "[number for number in range(10) if number % 2 ==0]"
   ]
  },
  {
   "cell_type": "markdown",
   "id": "b5f5b566-2724-40b1-98ec-ecb67a0f786f",
   "metadata": {},
   "source": [
    "**Exercise 2**"
   ]
  },
  {
   "cell_type": "markdown",
   "id": "e8f2dce1-5af9-423c-93a3-de46c1b30dab",
   "metadata": {},
   "source": [
    "**Exercise 3**"
   ]
  },
  {
   "cell_type": "markdown",
   "id": "396bac3d-a4a9-4b3b-8b67-8713647e4895",
   "metadata": {},
   "source": [
    "**Exercise 4**"
   ]
  },
  {
   "cell_type": "code",
   "execution_count": null,
   "id": "f193b7c8-57ab-41b5-be55-d3c1b2b4d211",
   "metadata": {},
   "outputs": [],
   "source": [
    "initial_quantity = 100\n",
    "current_quantity = initial_quantity\n",
    "decay_rate = 0.05  # 5% as a decimal\n",
    "target_quantity = initial_quantity / 2  # 50 units\n",
    "\n",
    "years = 0  # Initialize the year counter\n",
    "\n",
    "while current_quantity > target_quantity:\n",
    "    current_quantity = current_quantity * (1 - decay_rate)  # Calculate the new quantity after decay\n",
    "    years += 1  # Increment the year counter\n",
    "\n",
    "print(f\"It will take {years} years to reach half the original amount.\")"
   ]
  },
  {
   "cell_type": "markdown",
   "id": "c1cee51e-1c94-4436-8cf8-c282566a12a3",
   "metadata": {},
   "source": [
    "**Exercise 5**"
   ]
  },
  {
   "cell_type": "code",
   "execution_count": null,
   "id": "bd024dfb-2dce-4756-b41e-46311f480497",
   "metadata": {},
   "outputs": [],
   "source": [
    "co2_data = [\n",
    "    (2000, 369.55), (2001, 371.14), (2002, 373.28),\n",
    "    (2003, 375.80), (2004, 377.52), (2005, 379.80),\n",
    "    (2006, 381.90), (2007, 383.79), (2008, 385.60),\n",
    "    (2009, 387.43), (2010, 389.90), (2011, 391.65),\n",
    "    (2012, 393.85), (2013, 396.52), (2014, 398.65),\n",
    "    (2015, 400.83), (2016, 404.24), (2017, 406.55),\n",
    "    (2018, 408.52), (2019, 411.44), (2020, 414.24)\n",
    "]\n",
    "\n",
    "for i in range(1, len(co2_data)):  # Start from the second year\n",
    "    prev_year, prev_co2 = co2_data[i - 1]\n",
    "    curr_year, curr_co2 = co2_data[i]\n",
    "\n",
    "    co2_change = curr_co2 - prev_co2\n",
    "\n",
    "    if co2_change >= 3:\n",
    "        print(f\"Year: {curr_year}, Change: {co2_change:.2f} ppm\")"
   ]
  }
 ],
 "metadata": {
  "kernelspec": {
   "display_name": "Python 3 (ipykernel)",
   "language": "python",
   "name": "python3"
  },
  "language_info": {
   "codemirror_mode": {
    "name": "ipython",
    "version": 3
   },
   "file_extension": ".py",
   "mimetype": "text/x-python",
   "name": "python",
   "nbconvert_exporter": "python",
   "pygments_lexer": "ipython3",
   "version": "3.12.3"
  },
  "toc": {
   "base_numbering": 1,
   "nav_menu": {},
   "number_sections": true,
   "sideBar": true,
   "skip_h1_title": false,
   "title_cell": "Table of Contents",
   "title_sidebar": "Contents",
   "toc_cell": false,
   "toc_position": {},
   "toc_section_display": true,
   "toc_window_display": false
  },
  "vscode": {
   "interpreter": {
    "hash": "31f2aee4e71d21fbe5cf8b01ff0e069b9275f58929596ceb00d14d90e3e16cd6"
   }
  }
 },
 "nbformat": 4,
 "nbformat_minor": 5
}
