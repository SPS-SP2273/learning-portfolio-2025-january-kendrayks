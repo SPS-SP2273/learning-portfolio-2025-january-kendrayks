{
 "cells": [
  {
   "attachments": {},
   "cell_type": "markdown",
   "id": "123456",
   "metadata": {},
   "source": [
    "<div style=\"text-align:left;font-size:2em\"><span style=\"font-weight:bolder;font-size:1.25em\">SP2273 | Learning Portfolio</span><br><br><span style=\"font-weight:bold;color:darkred\">Loops (Good) Exercises</span></div>"
   ]
  },
  {
   "cell_type": "markdown",
   "id": "30fa287b-6aa6-4aaa-ad0d-9348cd3cbb92",
   "metadata": {},
   "source": [
    "**Exercise 1**"
   ]
  },
  {
   "cell_type": "code",
   "execution_count": 7,
   "id": "6cd46a3d-bffb-4440-8568-568bde1e67a8",
   "metadata": {},
   "outputs": [
    {
     "data": {
      "text/plain": [
       "[1, 9, 25, 49, 81]"
      ]
     },
     "execution_count": 7,
     "metadata": {},
     "output_type": "execute_result"
    }
   ],
   "source": [
    "list_odd_num_squares = []\n",
    "for num in range(10):\n",
    "    if num % 2 == 0:\n",
    "        continue #skip even number\n",
    "    number = num**2 \n",
    "    list_odd_num_squares.append(number)\n",
    "\n",
    "list_odd_num_squares\n"
   ]
  },
  {
   "cell_type": "markdown",
   "id": "b5f5b566-2724-40b1-98ec-ecb67a0f786f",
   "metadata": {},
   "source": [
    "**Exercise 2**"
   ]
  },
  {
   "cell_type": "code",
   "execution_count": 2,
   "id": "1dd13bbf-7c40-40c5-8dcc-f42b69aa2810",
   "metadata": {},
   "outputs": [
    {
     "data": {
      "text/plain": [
       "[1, 9, 25, 49, 81]"
      ]
     },
     "execution_count": 2,
     "metadata": {},
     "output_type": "execute_result"
    }
   ],
   "source": [
    "[number**2 for number in range(10) if number % 2 ==1]"
   ]
  },
  {
   "cell_type": "markdown",
   "id": "e8f2dce1-5af9-423c-93a3-de46c1b30dab",
   "metadata": {},
   "source": [
    "**Exercise 3**"
   ]
  },
  {
   "cell_type": "code",
   "execution_count": 8,
   "id": "c2e1d654-1867-4bb1-9a8e-0345a4865eff",
   "metadata": {},
   "outputs": [
    {
     "name": "stdout",
     "output_type": "stream",
     "text": [
      "2.81 μs ± 113 ns per loop (mean ± std. dev. of 7 runs, 100,000 loops each)\n"
     ]
    }
   ],
   "source": [
    "%%timeit\n",
    "list_odd_num_squares = []\n",
    "for num in range(10):\n",
    "    if num % 2 == 0:\n",
    "        continue #skip even number\n",
    "    number = num**2 \n",
    "    list_odd_num_squares.append(number)\n",
    "\n",
    "list_odd_num_squares"
   ]
  },
  {
   "cell_type": "code",
   "execution_count": 4,
   "id": "abddaef2-c49e-4102-bd9d-444bba8349e0",
   "metadata": {},
   "outputs": [
    {
     "name": "stdout",
     "output_type": "stream",
     "text": [
      "2.39 μs ± 219 ns per loop (mean ± std. dev. of 7 runs, 100,000 loops each)\n"
     ]
    }
   ],
   "source": [
    "%%timeit\n",
    "[numbe**2 for number in range(10) if number % 2 ==1]"
   ]
  },
  {
   "cell_type": "markdown",
   "id": "089fca2b-80b9-4d63-b349-6071cfc2d641",
   "metadata": {},
   "source": [
    "Using list comprehension is faster."
   ]
  },
  {
   "cell_type": "markdown",
   "id": "396bac3d-a4a9-4b3b-8b67-8713647e4895",
   "metadata": {},
   "source": [
    "**Exercise 4**"
   ]
  },
  {
   "cell_type": "code",
   "execution_count": 11,
   "id": "757b84da-fda5-48e1-9687-31eb8e541d0d",
   "metadata": {},
   "outputs": [
    {
     "name": "stdout",
     "output_type": "stream",
     "text": [
      "0\n",
      "1\n",
      "2\n",
      "3\n",
      "4\n"
     ]
    }
   ],
   "source": [
    "number = 0\n",
    "\n",
    "while number < 5:\n",
    "    print(number)\n",
    "    number += 1\n",
    "    "
   ]
  },
  {
   "cell_type": "code",
   "execution_count": 38,
   "id": "f193b7c8-57ab-41b5-be55-d3c1b2b4d211",
   "metadata": {},
   "outputs": [
    {
     "name": "stdout",
     "output_type": "stream",
     "text": [
      "It will take 14 years to reach half the original amount.\n"
     ]
    }
   ],
   "source": [
    "initial_quantity = 100\n",
    "current_quantity = initial_quantity\n",
    "decay_rate = 0.05 \n",
    "target_quantity = initial_quantity / 2  \n",
    "\n",
    "years = 0\n",
    "\n",
    "while current_quantity > target_quantity:\n",
    "    current_quantity = current_quantity * (1 - decay_rate)\n",
    "    years += 1 \n",
    "\n",
    "print(f\"It will take {years} years to reach half the original amount.\")"
   ]
  },
  {
   "cell_type": "markdown",
   "id": "c1cee51e-1c94-4436-8cf8-c282566a12a3",
   "metadata": {},
   "source": [
    "**Exercise 5**"
   ]
  },
  {
   "cell_type": "code",
   "execution_count": 37,
   "id": "ef2c3111-bfe3-4758-8f30-b5a8acd5a92a",
   "metadata": {},
   "outputs": [
    {
     "name": "stdout",
     "output_type": "stream",
     "text": [
      "2016 , 3.41\n"
     ]
    }
   ],
   "source": [
    "co2_data = [\n",
    "    (2000, 369.55), (2001, 371.14), (2002, 373.28), \n",
    "    (2003, 375.80), (2004, 377.52), (2005, 379.80), \n",
    "    (2006, 381.90), (2007, 383.79), (2008, 385.60), \n",
    "    (2009, 387.43), (2010, 389.90), (2011, 391.65), \n",
    "    (2012, 393.85), (2013, 396.52), (2014, 398.65),\n",
    "    (2015, 400.83), (2016, 404.24), (2017, 406.55), \n",
    "    (2018, 408.52), (2019, 411.44), (2020, 414.24)\n",
    "]\n",
    "\n",
    "for year, co2_level in co2_data:\n",
    "    if year == 2000:\n",
    "        previous_year_co2_level = co2_level\n",
    "    else:\n",
    "        co2_year_diff = co2_level - previous_year_co2_level \n",
    "        if co2_year_diff > 3:\n",
    "            print(year,',',  f'{co2_year_diff:.2f}')\n",
    "            previous_year_co2_level = co2_level\n",
    "        else:\n",
    "            previous_year_co2_level = co2_level"
   ]
  }
 ],
 "metadata": {
  "kernelspec": {
   "display_name": "Python 3 (ipykernel)",
   "language": "python",
   "name": "python3"
  },
  "language_info": {
   "codemirror_mode": {
    "name": "ipython",
    "version": 3
   },
   "file_extension": ".py",
   "mimetype": "text/x-python",
   "name": "python",
   "nbconvert_exporter": "python",
   "pygments_lexer": "ipython3",
   "version": "3.12.3"
  },
  "toc": {
   "base_numbering": 1,
   "nav_menu": {},
   "number_sections": true,
   "sideBar": true,
   "skip_h1_title": false,
   "title_cell": "Table of Contents",
   "title_sidebar": "Contents",
   "toc_cell": false,
   "toc_position": {},
   "toc_section_display": true,
   "toc_window_display": false
  },
  "vscode": {
   "interpreter": {
    "hash": "31f2aee4e71d21fbe5cf8b01ff0e069b9275f58929596ceb00d14d90e3e16cd6"
   }
  }
 },
 "nbformat": 4,
 "nbformat_minor": 5
}
