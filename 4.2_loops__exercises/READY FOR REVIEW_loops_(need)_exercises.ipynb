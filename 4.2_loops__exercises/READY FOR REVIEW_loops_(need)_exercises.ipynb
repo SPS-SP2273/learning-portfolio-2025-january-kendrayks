{
 "cells": [
  {
   "attachments": {},
   "cell_type": "markdown",
   "id": "123456",
   "metadata": {},
   "source": [
    "<div style=\"text-align:left;font-size:2em\"><span style=\"font-weight:bolder;font-size:1.25em\">SP2273 | Learning Portfolio</span><br><br><span style=\"font-weight:bold;color:darkred\">Loops (Need) Exercises</span></div>"
   ]
  },
  {
   "cell_type": "markdown",
   "id": "3dac16ed-415c-4c44-ab1b-62691c1b4d55",
   "metadata": {},
   "source": [
    "**Exercise 1**"
   ]
  },
  {
   "cell_type": "code",
   "execution_count": 16,
   "id": "fceb6927-615a-4cfa-b97c-2587662ffb30",
   "metadata": {},
   "outputs": [
    {
     "name": "stdout",
     "output_type": "stream",
     "text": [
      "0 Celsius, 32.0 Fahrenheit\n",
      "5 Celsius, 41.0 Fahrenheit\n",
      "10 Celsius, 50.0 Fahrenheit\n",
      "15 Celsius, 59.0 Fahrenheit\n",
      "20 Celsius, 68.0 Fahrenheit\n",
      "25 Celsius, 77.0 Fahrenheit\n",
      "30 Celsius, 86.0 Fahrenheit\n",
      "35 Celsius, 95.0 Fahrenheit\n",
      "40 Celsius, 104.0 Fahrenheit\n",
      "45 Celsius, 113.0 Fahrenheit\n",
      "50 Celsius, 122.0 Fahrenheit\n"
     ]
    }
   ],
   "source": [
    "temperatures_celsius = [\n",
    "    0, 5, 10, 15, 20, 25,\n",
    "    30, 35, 40, 45, 50\n",
    "]     #F= (C*9 /5) + 32\n",
    "\n",
    "for celsius in temperatures_celsius:\n",
    "    fahrenheit = (celsius * 9/5) + 32\n",
    "    print(f\"{celsius} Celsius, {fahrenheit} Fahrenheit\")"
   ]
  },
  {
   "cell_type": "markdown",
   "id": "b8af2744-5792-4a88-b3ec-dfdaba964d68",
   "metadata": {},
   "source": [
    "**Exercise 2**"
   ]
  },
  {
   "cell_type": "code",
   "execution_count": 124,
   "id": "7b32ab7d-38fc-4955-8481-467ed01ea1fe",
   "metadata": {},
   "outputs": [
    {
     "name": "stdout",
     "output_type": "stream",
     "text": [
      "1 : 1   2   3   4   5  \n",
      "2 : 2   4   6   8   10 \n",
      "3 : 3   6   9   12  15 \n",
      "4 : 4   8   12  16  20 \n",
      "5 : 5   10  15  20  25 \n"
     ]
    }
   ],
   "source": [
    "list_of_numbers = [1, 2, 3, 4, 5]\n",
    "\n",
    "for x in list_of_numbers:\n",
    "    new_index = x\n",
    "    new_first = new_index\n",
    "    new_second = new_index * 2\n",
    "    new_third = new_index * 3\n",
    "    new_fourth = new_index * 4\n",
    "    new_fifth = new_index * 5\n",
    "    print(f'{new_index:<2}: {new_first:<3} {new_second:<3} {new_third:<3} {new_fourth:<3} {new_fifth:<3}')"
   ]
  },
  {
   "cell_type": "markdown",
   "id": "ffefe767-edc8-4428-9675-6b6c41f8d423",
   "metadata": {},
   "source": [
    "**Exercise 3**"
   ]
  },
  {
   "cell_type": "code",
   "execution_count": 125,
   "id": "a416ebc2-5fce-472d-8a61-b98034414817",
   "metadata": {},
   "outputs": [
    {
     "data": {
      "text/plain": [
       "array([0.81363491, 0.42959076, 0.46132414, 0.41439413, 0.09512535,\n",
       "       0.13409787, 0.75718915, 0.90186372, 0.72455584, 0.35700943])"
      ]
     },
     "execution_count": 125,
     "metadata": {},
     "output_type": "execute_result"
    }
   ],
   "source": [
    "import numpy as np\n",
    "np.random.rand(10)"
   ]
  },
  {
   "cell_type": "code",
   "execution_count": 169,
   "id": "041df28a-7d23-44ad-86ae-f2eb2f58c48c",
   "metadata": {},
   "outputs": [
    {
     "name": "stdout",
     "output_type": "stream",
     "text": [
      "Experiment  1  : No. of Heads = 6\n",
      "Experiment  2  : No. of Heads = 3\n",
      "Experiment  3  : No. of Heads = 4\n",
      "Experiment  4  : No. of Heads = 4\n",
      "Experiment  5  : No. of Heads = 4\n",
      "Experiment  6  : No. of Heads = 5\n",
      "Experiment  7  : No. of Heads = 8\n",
      "Experiment  8  : No. of Heads = 2\n",
      "Experiment  9  : No. of Heads = 7\n",
      "Experiment  10 : No. of Heads = 6\n"
     ]
    }
   ],
   "source": [
    "for experiment in range(10):\n",
    "    array_of_randoms = np.random.rand(10)\n",
    "    cumulative_heads = 0\n",
    "    for i in array_of_randoms:\n",
    "        if i >= 0.5:\n",
    "            cumulative_heads = cumulative_heads + 1\n",
    "        else:\n",
    "            cumulative_heads = cumulative_heads + 0\n",
    "    new_experiment = experiment + 1\n",
    "    print(f\"{'Experiment'}  {new_experiment:<2}\", ': No. of Heads =',cumulative_heads)"
   ]
  }
 ],
 "metadata": {
  "kernelspec": {
   "display_name": "Python 3 (ipykernel)",
   "language": "python",
   "name": "python3"
  },
  "language_info": {
   "codemirror_mode": {
    "name": "ipython",
    "version": 3
   },
   "file_extension": ".py",
   "mimetype": "text/x-python",
   "name": "python",
   "nbconvert_exporter": "python",
   "pygments_lexer": "ipython3",
   "version": "3.12.3"
  },
  "toc": {
   "base_numbering": 1,
   "nav_menu": {},
   "number_sections": true,
   "sideBar": true,
   "skip_h1_title": false,
   "title_cell": "Table of Contents",
   "title_sidebar": "Contents",
   "toc_cell": false,
   "toc_position": {},
   "toc_section_display": true,
   "toc_window_display": false
  },
  "vscode": {
   "interpreter": {
    "hash": "31f2aee4e71d21fbe5cf8b01ff0e069b9275f58929596ceb00d14d90e3e16cd6"
   }
  }
 },
 "nbformat": 4,
 "nbformat_minor": 5
}
